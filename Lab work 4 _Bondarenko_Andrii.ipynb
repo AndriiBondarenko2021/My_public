{
 "cells": [
  {
   "cell_type": "markdown",
   "metadata": {},
   "source": [
    "___\n",
    "\n",
    "<a href='https://mainacademy.ua/'> <img src='https://mainacademy.ua/wp-content/uploads/2019/03/logo-main.png' alt = 'Хмм, щось з інтернетом'/></a>\n",
    "___\n",
    "\n",
    "# Module 4: Work with data professionally!"
   ]
  },
  {
   "cell_type": "markdown",
   "metadata": {},
   "source": [
    "## Lab work 4\n",
    "\n"
   ]
  },
  {
   "cell_type": "markdown",
   "metadata": {},
   "source": [
    "#### Мета: \n",
    "\n",
    "* навчитися обробляти дані\n",
    "* \"парсити\" сайти"
   ]
  },
  {
   "cell_type": "markdown",
   "metadata": {},
   "source": [
    "### Завдання 1:"
   ]
  },
  {
   "cell_type": "markdown",
   "metadata": {},
   "source": [
    "#### Ознайомитися із API Національного банку \n",
    "https://old.bank.gov.ua/control/uk/publish/article?art_id=38441973&cat_id=38459171#exchange\n",
    "\n"
   ]
  },
  {
   "cell_type": "markdown",
   "metadata": {},
   "source": [
    "1. Підключитися до API.\n"
   ]
  },
  {
   "cell_type": "code",
   "execution_count": 7,
   "metadata": {},
   "outputs": [
    {
     "data": {
      "text/plain": [
       "<Response [200]>"
      ]
     },
     "execution_count": 7,
     "metadata": {},
     "output_type": "execute_result"
    }
   ],
   "source": [
    "import requests\n",
    "baneling='https://bank.gov.ua/NBUStatService/v1/statdirectory/exchangenew'\n",
    "requests.get(baneling)"
   ]
  },
  {
   "cell_type": "code",
   "execution_count": 8,
   "metadata": {},
   "outputs": [],
   "source": [
    "#?valcode=EUR&date=YYYYMMDD"
   ]
  },
  {
   "cell_type": "code",
   "execution_count": 9,
   "metadata": {},
   "outputs": [],
   "source": [
    "#?date=YYYYMMDD"
   ]
  },
  {
   "cell_type": "markdown",
   "metadata": {},
   "source": [
    "2. Отримати курс долара за останній рік."
   ]
  },
  {
   "cell_type": "code",
   "execution_count": 10,
   "metadata": {},
   "outputs": [
    {
     "name": "stdout",
     "output_type": "stream",
     "text": [
      "Дані буде завантажено місяцями з start до end поденно\n",
      "Напиши дату \"старт\" в форматі YYYYMM (напр.:202001): 202001\n",
      "Напиши дату \"кінець\" в форматі YYYYMM (напр.:202012): 202012\n",
      "Буде завантажено дані за 366 днів, зачекай!\n"
     ]
    },
    {
     "data": {
      "application/vnd.jupyter.widget-view+json": {
       "model_id": "6ca84419fb854b8ab2fbcf99f97fda17",
       "version_major": 2,
       "version_minor": 0
      },
      "text/plain": [
       "Downloading data strings:   0%|          | 0/366 [00:00<?, ?it/s]"
      ]
     },
     "metadata": {},
     "output_type": "display_data"
    }
   ],
   "source": [
    "#!pip install datetime\n",
    "import requests\n",
    "from tqdm.notebook import tqdm_notebook\n",
    "import time\n",
    "import datetime\n",
    "from calendar import monthrange\n",
    "def date_rate():\n",
    "    '''Намутил курсы в словарь от start до end'''\n",
    "    print('Дані буде завантажено місяцями з start до end поденно')\n",
    "    baneling='https://bank.gov.ua/NBUStatService/v1/statdirectory/exchangenew'\n",
    "    start=input('Напиши дату \"старт\" в форматі YYYYMM (напр.:202001): ')\n",
    "    end=input('Напиши дату \"кінець\" в форматі YYYYMM (напр.:202012): ')\n",
    "    if start ==\"\" and end == \"\":\n",
    "        now_y=datetime.datetime.now().year\n",
    "        start=datetime.date(year=now_y,month=1,day=1)\n",
    "        end=datetime.datetime.now().date()\n",
    "        ns=start\n",
    "        ne=end\n",
    "    elif start ==\"\" and end !=\"\":\n",
    "        now_y=datetime.datetime.now().year\n",
    "        start=datetime.date(year=now_y,month=1,day=1)\n",
    "        end=end+'05'\n",
    "        end=datetime.datetime.strptime(end,'%Y%m%d').date()\n",
    "        end=datetime.date(year=end.year,month=end.month,day=monthrange(end.year, end.month)[-1])\n",
    "        ns=start\n",
    "        ne=end\n",
    "    elif start !=\"\" and end ==\"\":\n",
    "        start=start+'01'\n",
    "        start=datetime.datetime.strptime(start,'%Y%m%d').date()\n",
    "        end=datetime.datetime.now().date()\n",
    "        ns=start\n",
    "        ne=end\n",
    "    else:\n",
    "        start=start+'01'\n",
    "        start=datetime.datetime.strptime(start,'%Y%m%d').date()\n",
    "        end=end+'05'\n",
    "        end=datetime.datetime.strptime(end,'%Y%m%d').date()\n",
    "        end=datetime.date(end.year, end.month, monthrange(end.year, end.month)[-1])\n",
    "        ns=start\n",
    "        ne=end\n",
    "    dates=[]\n",
    "    rate=list()\n",
    "    params={'date':'Zorro','valcode':'USD','json':'json'}\n",
    "    while start<=end:\n",
    "        dates.append(start.strftime('%Y%m%d'))\n",
    "        start += datetime.timedelta(days=1)\n",
    "    else:\n",
    "        counter=int(str(ne-ns).split()[0])+1\n",
    "        print(f'Буде завантажено дані за {counter} днів, зачекай!')\n",
    "    for dat in tqdm_notebook(dates,desc='Downloading data strings'):\n",
    "        params['date']=dat\n",
    "        rate.append(requests.get(baneling,params=params).json()[0]['rate'])\n",
    "        time.sleep(0.00001)\n",
    "    d_r={}\n",
    "    d_r=dict(zip(dates,rate))\n",
    "    return d_r\n",
    "\n",
    "\n",
    "\n",
    "d_r=date_rate()\n",
    "#d_r\n",
    "\n",
    "\n"
   ]
  },
  {
   "cell_type": "markdown",
   "metadata": {},
   "source": [
    "3. Вивести середнє значення та відхилення курсу за кожний місяць."
   ]
  },
  {
   "cell_type": "code",
   "execution_count": 5,
   "metadata": {},
   "outputs": [
    {
     "data": {
      "text/plain": [
       "{'01': 'середній курс за місяць для USD/UAH 24.12, зміна з початку місяця : 5.21%',\n",
       " '02': 'середній курс за місяць для USD/UAH 24.6, зміна з початку місяця : -1.44%',\n",
       " '03': 'середній курс за місяць для USD/UAH 26.41, зміна з початку місяця : 14.25%',\n",
       " '04': 'середній курс за місяць для USD/UAH 27.22, зміна з початку місяця : -2.38%',\n",
       " '05': 'середній курс за місяць для USD/UAH 26.81, зміна з початку місяця : -0.24%',\n",
       " '06': 'середній курс за місяць для USD/UAH 26.71, зміна з початку місяця : -0.66%',\n",
       " '07': 'середній курс за місяць для USD/UAH 27.31, зміна з початку місяця : 3.84%',\n",
       " '08': 'середній курс за місяць для USD/UAH 27.52, зміна з початку місяця : -0.78%',\n",
       " '09': 'середній курс за місяць для USD/UAH 27.98, зміна з початку місяця : 2.67%',\n",
       " '10': 'середній курс за місяць для USD/UAH 28.32, зміна з початку місяця : 0.45%',\n",
       " '11': 'середній курс за місяць для USD/UAH 28.31, зміна з початку місяця : 0.1%',\n",
       " '12': 'середній курс за місяць для USD/UAH 28.17, зміна з початку місяця : -0.78%'}"
      ]
     },
     "execution_count": 5,
     "metadata": {},
     "output_type": "execute_result"
    }
   ],
   "source": [
    "import datetime\n",
    "from datetime import datetime\n",
    "from calendar import monthrange\n",
    "\n",
    "\n",
    "month_list=[datetime.strptime(list(d_r.keys())[i],'%Y%m%d').strftime('%m') for i in range(0,len(list(d_r.keys())))]\n",
    "\n",
    "def month_averages():\n",
    "    solution={}\n",
    "    global month_average\n",
    "    month_average={}\n",
    "    month_change={}\n",
    "    for mo in set(month_list):\n",
    "#        print(mo)\n",
    "        month_average[mo]=[]\n",
    "        tempo=[]\n",
    "        for k in d_r.keys():\n",
    "            if datetime.strptime(k,'%Y%m%d').strftime('%m')==mo:  \n",
    "                tempo.append(d_r[k])\n",
    "                month_average[mo]=tempo\n",
    "                month_average[mo]=round(sum(tempo)/len(tempo),2)\n",
    "    \n",
    "    for k,v in d_r.items():\n",
    "        start=k[:6]+'01'\n",
    "        end=datetime.strptime(k,'%Y%m%d')\n",
    "        end=datetime(end.year, end.month, monthrange(end.year, end.month)[-1]).strftime('%Y%m%d')\n",
    "        if datetime.strptime(end,'%Y%m%d')<datetime.now():\n",
    "            delta=round((d_r[end]/d_r[start] -1)*100,2)\n",
    "            month_change[datetime.strptime(end,'%Y%m%d').strftime('%m')]=delta\n",
    "        else:\n",
    "            delta=0.00\n",
    "            month_change[datetime.strptime(end,'%Y%m%d').strftime('%m')]=delta\n",
    "                   \n",
    "    for k,v in dict(month_average).items():\n",
    "        solution[k]=f'середній курс за місяць для USD/UAH {v}, зміна з початку місяця : {month_change[k]}%'\n",
    "        solution=dict(sorted(solution.items()))\n",
    "    return solution  \n",
    "month_averages()"
   ]
  },
  {
   "cell_type": "markdown",
   "metadata": {},
   "source": [
    "4. Дану інформацію записати у файл за допомогою pickle."
   ]
  },
  {
   "cell_type": "code",
   "execution_count": 6,
   "metadata": {},
   "outputs": [],
   "source": [
    "import pickle\n",
    "pickled=month_averages()\n",
    "with open('pik.pickle', 'wb') as f:\n",
    "    pickle.dump(pickled, f)\n"
   ]
  },
  {
   "cell_type": "code",
   "execution_count": 7,
   "metadata": {
    "scrolled": true
   },
   "outputs": [],
   "source": [
    "#with open('pik.pickle', 'rb') as f:\n",
    "#    loaded_pik = pickle.load(f)\n",
    "#loaded_pik"
   ]
  },
  {
   "cell_type": "markdown",
   "metadata": {},
   "source": [
    "### Завдання 2:"
   ]
  },
  {
   "cell_type": "markdown",
   "metadata": {},
   "source": [
    "Потрібно проаналізувати всі товари на сайті: \n",
    "https://smallpacking.agrosem.ua/shop/"
   ]
  },
  {
   "cell_type": "markdown",
   "metadata": {},
   "source": [
    "Створіть базу даних, що містить таблицю із такими стовбцями: \n",
    "    - артикул товару\n",
    "    - найменування\n",
    "    - ціна \n",
    "    - вага"
   ]
  },
  {
   "cell_type": "code",
   "execution_count": 8,
   "metadata": {
    "scrolled": true
   },
   "outputs": [],
   "source": [
    "#!pip install bs4\n",
    "#!pip install lxml"
   ]
  },
  {
   "cell_type": "code",
   "execution_count": 9,
   "metadata": {
    "scrolled": true
   },
   "outputs": [],
   "source": [
    "import requests\n",
    "from bs4 import BeautifulSoup\n",
    "\n",
    "params={'orderby':'price-desc'}\n",
    "link = 'https://smallpacking.agrosem.ua/shop/page/2/'\n",
    "links=[]\n",
    "i=1\n",
    "'''Отримую pagination'''\n",
    "while str(requests.get(link,params=params))== '<Response [200]>':\n",
    "    \n",
    "    link='https://smallpacking.agrosem.ua/shop/page/'+str(i)+'/'\n",
    "    if str(requests.get(link,params=params))== '<Response [200]>':\n",
    "        links.append(link)\n",
    "    i+=1  "
   ]
  },
  {
   "cell_type": "code",
   "execution_count": 10,
   "metadata": {},
   "outputs": [],
   "source": [
    "'''Отримую product link'''\n",
    "product_link=[]\n",
    "for i in links:\n",
    "    request=requests.get(i,params=params)\n",
    "    s=BeautifulSoup(request.text,'lxml') \n",
    "    for b in s.find_all('div',class_='product-from-category-container'):\n",
    "        product_link.append(b.find('a').get('href'))"
   ]
  },
  {
   "cell_type": "code",
   "execution_count": 11,
   "metadata": {
    "scrolled": true
   },
   "outputs": [
    {
     "data": {
      "application/vnd.jupyter.widget-view+json": {
       "model_id": "c92949b17be24ee19d80275d5d781cdc",
       "version_major": 2,
       "version_minor": 0
      },
      "text/plain": [
       "Downloading data strings:   0%|          | 0/229 [00:00<?, ?it/s]"
      ]
     },
     "metadata": {},
     "output_type": "display_data"
    }
   ],
   "source": [
    "'''Парсинг'''\n",
    "data={}\n",
    "name_list=[]\n",
    "SKU_list=[]\n",
    "price_list=[]\n",
    "weight_list=[]\n",
    "for i in tqdm_notebook(product_link,desc='Downloading data strings'):\n",
    "    request=requests.get(i,params=params)\n",
    "    s=BeautifulSoup(request.text,'lxml')\n",
    "    product=s.find('li',class_=\"active\").text\n",
    "    \n",
    "    SKU=s.find('span',class_=\"sku\").text\n",
    "    try:\n",
    "        price=s.find('span',class_=\"regular-price\").text\n",
    "    except AttributeError:\n",
    "        price=None\n",
    "        pass\n",
    "    try:\n",
    "        weight=s.find('tr',class_=\"woocommerce-product-attributes-item woocommerce-product-attributes-item--attribute_pa_vaga\").find('td',class_=\"woocommerce-product-attributes-item__value\").find('p').text\n",
    "    except AttributeError:\n",
    "        weight=None\n",
    "        pass\n",
    "    name_list.append(product)\n",
    "    SKU_list.append(SKU)\n",
    "    price_list.append(price)\n",
    "    weight_list.append(weight)\n",
    "    time.sleep(0.00001)\n",
    "        \n",
    "data={k:[a,b,c] for k,a,b,c in zip(SKU_list,name_list,price_list,weight_list)}\n",
    "    "
   ]
  },
  {
   "cell_type": "code",
   "execution_count": 12,
   "metadata": {
    "scrolled": true
   },
   "outputs": [
    {
     "data": {
      "text/plain": [
       "{'SKU: 42579': ['Етерно КВС, насіння озимого жита, протруєне.',\n",
       "  '56 000 грн',\n",
       "  None],\n",
       " 'SKU: 12789': ['КВС Пропауер, насіння озимого жита.', '55 000 грн', None],\n",
       " 'SKU: 62997': ['КВС Тайо, насіння озимого жита.', '55 000 грн', None],\n",
       " 'SKU: 91815': ['Етерно КВС, насіння озимого жита.', '53 000 грн', None],\n",
       " 'SKU: 31292': ['Етерно КВС, насіння озимого жита.', '50 000 грн', None],\n",
       " 'SKU: 56714': ['КВС Боно, насіння озимого жита.', '49 000 грн', None],\n",
       " 'SKU: 61723': ['КВС Магніфіко, насіння озимого жита на силос.',\n",
       "  '46 000 грн',\n",
       "  None],\n",
       " 'SKU: 35951': ['YaraIrix.', '18 000 грн', '1 шт'],\n",
       " 'SKU: 63243': ['YaraMila NPK 16-27-7.', '16 800 грн', '600 кг'],\n",
       " 'SKU: 24344': ['YaraMila NPK 7-20-28.', '16 000 грн', '600 кг'],\n",
       " 'SKU: 89147': ['YaraMila NPK 12-24-12.', '15 800 грн', '600 кг'],\n",
       " 'SKU: 64776': ['YaraMila NPK 8-24-24.', '15 600 грн', '600 кг'],\n",
       " 'SKU: 66872': ['YaraMila NPK 9-12-25 + 2MgO + 6,5SO3 + micro.',\n",
       "  '13 800 грн',\n",
       "  '600 кг'],\n",
       " 'SKU: 84721': ['YaraMila NPK 16-16-16.', '13 700 грн', '600 кг'],\n",
       " 'SKU: 47993': ['YaraMila NP 20-20 +9,0SO3.', '13 200 грн', '600 кг'],\n",
       " 'SKU: 24963': ['YaraMila NPK 18-11-13.', '12 500 грн', '600 кг'],\n",
       " 'SKU: 76265': ['Сульфат магнію гранульований.', '9 500 грн', '1000 кг'],\n",
       " 'SKU: 93119': ['YaraBela Сульфан.', '8 900 грн', '600 кг'],\n",
       " 'SKU: 14888': ['ПТ279КЛ, озимий ріпак.', '7 400 грн', None],\n",
       " 'SKU: 14592': ['ПХ131, озимий ріпак.', '7 000 грн', None],\n",
       " 'SKU: 32979': ['ПX128, озимий ріпак.', '7 000 грн', None],\n",
       " 'SKU: 87933': ['ПТ275, озимий ріпак.', '7 000 грн', None],\n",
       " 'SKU: 87376': ['ПХ125КЛ, озимий ріпак.', '7 000 грн', None],\n",
       " 'SKU: 67125': ['ПТ200КЛ, озимий ріпак.', '7 000 грн', None],\n",
       " 'SKU: 66139': ['ПТ271, озимий ріпак.', '7 000 грн', None],\n",
       " 'SKU: 94498': ['ПТ264, озимий ріпак.', '7 000 грн', None],\n",
       " 'SKU: 45838': ['ПТ269, озимий ріпак.', '6 700 грн', None],\n",
       " 'SKU: 84913': ['ПТ248, озимий ріпак.', '6 600 грн', None],\n",
       " 'SKU: 42617': ['YaraVita Молітрак.', '6 600 грн', '5 л'],\n",
       " 'SKU: 27795': ['ПР44Д06, озимий ріпак.', '6 400 грн', None],\n",
       " 'SKU: 27946': ['КВС Феррі, озимий ріпак, 2020 р. врожаю.', '6 000 грн', None],\n",
       " 'SKU: 69156': ['Pulan 34.4.', '5 900 грн', '600 кг'],\n",
       " 'SKU: 93768': ['ПX113, озимий ріпак.', '5 800 грн', None],\n",
       " 'SKU: 29272': ['ПР46В21, озимий ріпак.', '5 800 грн', None],\n",
       " 'SKU: 41695': ['ПТ234, озимий ріпак.', '5 800 грн', None],\n",
       " 'SKU: 88369': ['Умберто КВС, насіння озимого ріпаку, 2020 р. врожаю.',\n",
       "  '5 800 грн',\n",
       "  None],\n",
       " 'SKU: 38134': ['Озимий ріпак Фактор КВС, 2020 р. врожаю, ексклюзив «Агросем».',\n",
       "  '5 800 грн',\n",
       "  None],\n",
       " 'SKU: 78664': ['Альваро КВС, насіння озимого ріпаку, 2020 р. врожаю.',\n",
       "  '5 700 грн',\n",
       "  None],\n",
       " 'SKU: 99753': ['МАРК КВС, 2020 р. врожаю.', '5 700 грн', None],\n",
       " 'SKU: 45875': ['Гибрікок KWS, 2020 р. врожаю.', '5 500 грн', None],\n",
       " 'SKU: 74266': ['Saletrosan®26.', '5 300 грн', '500 кг'],\n",
       " 'SKU: 33632': ['Умберто КВС, насіння озимого ріпаку, 2019 р. врожаю.',\n",
       "  '5 200 грн',\n",
       "  None],\n",
       " 'SKU: 87931': ['Озимий ріпак Фактор КВС, 2019 р. врожаю, ексклюзив «Агросем».',\n",
       "  '5 200 грн',\n",
       "  None],\n",
       " 'SKU: 26252': ['Saletrosan®30.', '5 200 грн', '500 кг'],\n",
       " 'SKU: 15119': ['Альваро КВС, насіння озимого ріпаку, 2019 р. врожаю.',\n",
       "  '5 000 грн',\n",
       "  None],\n",
       " 'SKU: 38994': ['МАРК КВС, 2019 р. врожаю.', '5 000 грн', None],\n",
       " 'SKU: 92478': ['Гибрікок KWS, 2019 р. врожаю.', '4 500 грн', None],\n",
       " 'SKU: 76913': ['Siarczan AS 21 Macro.', '4 300 грн', '500 кг'],\n",
       " 'SKU: 67325': ['Saletrzak 27 macro.', '3 400 грн', '500 кг'],\n",
       " 'SKU: 94157': ['YaraVita Тепросин NP+Zn.', '3 000 грн', '5 л'],\n",
       " 'SKU: 22322': ['YaraVita Меїз Буст.', '2 700 грн', '10 л'],\n",
       " 'SKU: 81892': ['Етерно КВС, насіння озимого жита.', '2 200 грн', None],\n",
       " 'SKU: 62796': ['YaraVita Грамітрел.', '2 200 грн', '10 л'],\n",
       " 'SKU: 13111': ['YaraVita Брасітрел Про.', '2 100 грн', '10 л'],\n",
       " 'SKU: 77348': ['YaraVita Rexolin D12 (хелат заліза).', '2 000 грн', '5 кг'],\n",
       " 'SKU: 16332': ['YaraVita Rexolin ABC (комплекс мікроелементів).',\n",
       "  '2 000 грн',\n",
       "  '5 кг'],\n",
       " 'SKU: 63683': ['КВС Магніфіко, насіння озимого жита на силос.',\n",
       "  '1 900 грн',\n",
       "  None],\n",
       " 'SKU: 79615': ['YaraVita КомбіФос.', '1 900 грн', '10 л'],\n",
       " 'SKU: 93579': ['YaraVita Цинтрак.', '1 900 грн', '5 л'],\n",
       " 'SKU: 88381': ['Яра (Folicare) NPK 12-46-8+micro.', '1 800 грн', '25 кг'],\n",
       " 'SKU: 76429': ['YaraVita Бортрак.', '1 750 грн', '10 л'],\n",
       " 'SKU: 37314': ['YaraVita Мантрак Про.', '1 700 грн', '5 л'],\n",
       " 'SKU: 28164': ['Ferticare Hydro 6-14-30 + micro.', '1 700 грн', '25 кг'],\n",
       " 'SKU: 66353': ['Ferticare Kombi 14-11-25 + micro.', '1 700 грн', '25 кг'],\n",
       " 'SKU: 65565': ['Яра (Folicare) NPK 12-0-38.', '1 700 грн', '25 кг'],\n",
       " 'SKU: 91621': ['Яра (Folicare) NPK 18-18-18+micro.', '1 700 грн', '25 кг'],\n",
       " 'SKU: 34559': ['Кrista МКР (монокалій фосфат).', '1 600 грн', '25 кг'],\n",
       " 'SKU: 35486': ['Яра Ferticare Tomato.', '1 600 грн', '25 кг'],\n",
       " 'SKU: 71533': ['Яра Ferticare Овочі.', '1 600 грн', '25 кг'],\n",
       " 'SKU: 68487': ['Яра (Folicare) NPK 22-5-22+micro.', '1 600 грн', '25 кг'],\n",
       " 'SKU: 55781': ['Яра (Folicare) NPK 10-5-40+micro.', '1 600 грн', '25 кг'],\n",
       " 'SKU: 47133': ['YaraVita Манкоцин.', '1 500 грн', '5 л'],\n",
       " 'SKU: 78528': ['YaraVita Тіотрак.', '1 300 грн', '10 л'],\n",
       " 'SKU: 97554': ['YaraVita Фосамко Біо.', '1 200 грн', '10 л'],\n",
       " 'SKU: 66368': ['Кrista К (нітрат калію).', '1 200 грн', '25 кг'],\n",
       " 'SKU: 34254': ['Кrista МАР (моноамоній фосфат).', '1 200 грн', '25 кг'],\n",
       " 'SKU: 16762': ['Добриво для газону.', '1 149 грн', '10 кг'],\n",
       " 'SKU: 375738': ['Добриво для газону.', '1 149 грн', '10 кг'],\n",
       " 'SKU: 4165215': ['Добриво для вічнозелених дерев та кущів.',\n",
       "  '1 149 грн',\n",
       "  '10 кг'],\n",
       " 'SKU: 5218': ['Добриво для вічнозелених дерев та кущів.',\n",
       "  '1 149 грн',\n",
       "  '10 кг'],\n",
       " 'SKU: 17477': ['Добриво універсальне грунтове.', '1 149 грн', '10 кг'],\n",
       " 'SKU: 5227876': ['Добриво універсальне грунтове.', '1 149 грн', '10 кг'],\n",
       " 'SKU: 19571': ['YaraTera SOP (сульфат калію).', '1 000 грн', '25 кг'],\n",
       " 'SKU: 39566': ['MagPlon K (нітрат калію).', '900 грн', '25 кг'],\n",
       " 'SKU: 21521': ['YaraMila Complex 12-11-18.', '899 грн', '25 кг'],\n",
       " 'SKU: 31357': ['YaraMila Cropcare 11-11-21.', '899 грн', '25 кг'],\n",
       " 'SKU: 68438': ['Кrista MAG (нітрат магнію).', '700 грн', '25 кг'],\n",
       " 'SKU: 95975': ['Yara Liva Нітрабор.', '550 грн', '25 кг'],\n",
       " 'SKU: 51667': ['Yara Liva Кальциніт.', '550 грн', '25 кг'],\n",
       " 'SKU: 5656841': ['Добриво для тепличних овочів.', '415 грн', '3 кг'],\n",
       " 'SKU: 198742': ['Добриво для овочів.', '415 грн', '3 кг'],\n",
       " 'SKU: 1297': ['Добриво для ягідних чагарників.', '415 грн', '3 кг'],\n",
       " 'SKU: 439226': ['Добриво для фруктових та горіхових дерев.',\n",
       "  '415 грн',\n",
       "  '3 кг'],\n",
       " 'SKU: 32237': ['Добриво для декоративних листових.', '415 грн', '3 кг'],\n",
       " 'SKU: 78747': ['Добриво для декоративних листових.', '415 грн', '3 кг'],\n",
       " 'SKU: 9354141': ['Добриво для газону.', '415 грн', '3 кг'],\n",
       " 'SKU: 7143174': ['Добриво для газону.', '415 грн', '3 кг'],\n",
       " 'SKU: 726319': ['Добриво для вічнозелених дерев та кущів.',\n",
       "  '415 грн',\n",
       "  '3 кг'],\n",
       " 'SKU: 4738184': ['Добриво для вічнозелених дерев та кущів.',\n",
       "  '415 грн',\n",
       "  '3 кг'],\n",
       " 'SKU: 682645': ['Добриво універсальне грунтове.', '415 грн', '3 кг'],\n",
       " 'SKU: 6651824': ['Добриво універсальне грунтове.', '415 грн', '3 кг'],\n",
       " 'SKU: 75575': ['Сульфат магнію Яра Krista MgS.', '400 грн', None],\n",
       " 'SKU: 65157': ['Сульфат магнію (семиводневий).', '320 грн', '25 кг'],\n",
       " 'SKU: 51561': ['Добриво для тепличних овочів.', '173 грн', '1 кг'],\n",
       " 'SKU: 68183': ['Добриво для розсади.', '173 грн', '1 кг'],\n",
       " 'SKU: 797756': ['Добриво для винограду.', '173 грн', '1 кг'],\n",
       " 'SKU: 3593': ['Добриво для полуниці.', '173 грн', '1 кг'],\n",
       " 'SKU: 88255': ['Добриво для овочів.', '173 грн', '1 кг'],\n",
       " 'SKU: 2217672': ['Добриво для троянд.', '173 грн', '1 кг'],\n",
       " 'SKU: 91897': ['Добриво для ягідних чагарників.', '173 грн', '1 кг'],\n",
       " 'SKU: 3177412': ['Добриво для фруктових та горіхових дерев.',\n",
       "  '173 грн',\n",
       "  '1 кг'],\n",
       " 'SKU: 991645': ['Добриво для декоративних листових.', '173 грн', '1 кг'],\n",
       " 'SKU: 455799': ['Добриво для газону.', '173 грн', '1 кг'],\n",
       " 'SKU: 33486': ['Добриво для декоративних листових.', '173 грн', '1 кг'],\n",
       " 'SKU: 789868': ['Добриво для газону.', '173 грн', '1 кг'],\n",
       " 'SKU: 1955': ['Добриво для вічнозелених дерев та кущів.', '173 грн', '1 кг'],\n",
       " 'SKU: 8362626': ['Добриво для вічнозелених дерев та кущів.',\n",
       "  '173 грн',\n",
       "  '1 кг'],\n",
       " 'SKU: 7435': ['Добриво універсальне грунтове.', '173 грн', '1 кг'],\n",
       " 'SKU: 61169': ['Добриво універсальне грунтове.', '173 грн', '1 кг'],\n",
       " 'SKU: 65651': ['ЕС АРОМАТІК СУ.', ' грн', None],\n",
       " 'SKU: 56446': ['ЕС АРГЕНТІК.', ' грн', None],\n",
       " 'SKU: 46994': ['MAS 89.IR.', ' грн', None],\n",
       " 'SKU: 45418': ['ЕС АРКАДІЯ СУ.', ' грн', None],\n",
       " 'SKU: 22865': ['MAS 81.K.', ' грн', None],\n",
       " 'SKU: 86472': ['ЕС ЯНІС.', ' грн', None],\n",
       " 'SKU: 13959': ['ЕС ГЕНЕЗІС.', ' грн', None],\n",
       " 'SKU: 25875': ['П63ЛЕ10.', ' грн', None],\n",
       " 'SKU: 51976': ['ЕС РОМАНТИК.', ' грн', None],\n",
       " 'SKU: 51733': ['П64ЛЕ99.', ' грн', None],\n",
       " 'SKU: 23171': ['ЕС ГРАФІК СЛ.', ' грн', None],\n",
       " 'SKU: 28239': ['П64ЛЦ108.', ' грн', None],\n",
       " 'SKU: 83792': ['ЕС ТЕРРАМІС ЕС.', ' грн', None],\n",
       " 'SKU: 42522': ['8Х288КЛДМ (високоолеїновий).', ' грн', None],\n",
       " 'SKU: 64464': ['ЕС ГЕНЕРАЛІС СЛ.', ' грн', None],\n",
       " 'SKU: 31679': ['ДСХ403 (високоолеїновий).', ' грн', None],\n",
       " 'SKU: 41839': ['ЕС НОВАМІС СЛ.', ' грн', None],\n",
       " 'SKU: 82241': ['ЕС ІЗІДА.', ' грн', None],\n",
       " 'SKU: 71288': ['П63ЛЛ124.', ' грн', None],\n",
       " 'SKU: 58715': ['ЕС РОЗАЛІЯ.', ' грн', None],\n",
       " 'SKU: 64383': ['П64ГЕ133 (високоолеїновий).', ' грн', None],\n",
       " 'SKU: 59822': ['MAS 82.A.', ' грн', None],\n",
       " 'SKU: 43984': ['ЕС ВЕРОНІКА.', ' грн', None],\n",
       " 'SKU: 12575': ['MAS 83.R.', ' грн', None],\n",
       " 'SKU: 95642': ['ЕС АНДРОМЕДА.', ' грн', None],\n",
       " 'SKU: 76355': ['MAS 81.C.', ' грн', None],\n",
       " 'SKU: 72952': ['ЕС САВАНА.', ' грн', None],\n",
       " 'SKU: 34872': ['MAS 90.F.', ' грн', None],\n",
       " 'SKU: 22374': ['ЕС НІАГАРА.', ' грн', None],\n",
       " 'SKU: 54199': ['MAS 89.M.', ' грн', None],\n",
       " 'SKU: 85189': ['MAS 96.P.', ' грн', None],\n",
       " 'SKU: 37339': ['ЕС БЕЛЛА.', ' грн', None],\n",
       " 'SKU: 99418': ['MAS 97.А.', ' грн', None],\n",
       " 'SKU: 52126': ['КВС АСЕР КЛ.', ' грн', None],\n",
       " 'SKU: 58278': ['MAS 83.OL.', ' грн', None],\n",
       " 'SKU: 82368': ['MAS 91.G.', ' грн', None],\n",
       " 'SKU: 35624': ['MAS 86.OL.', ' грн', None],\n",
       " 'SKU: 94287': ['MAS 85.SU.', ' грн', None],\n",
       " 'SKU: 56312': ['КВС ДРАГОН.', ' грн', None],\n",
       " 'SKU: 86827': ['MAS 80.IR.', ' грн', None],\n",
       " 'SKU: 36295': ['MAS 87.IR.', ' грн', None],\n",
       " 'SKU: 11182': ['MAS 86.CP.', ' грн', None],\n",
       " 'SKU: 33229': ['MAS 92.CP.', ' грн', None],\n",
       " 'SKU: 66336': ['8Х477КЛ (високоолеїновий).', ' грн', None],\n",
       " 'SKU: 52655': ['MAS 87.A.', ' грн', None],\n",
       " 'SKU: 38959': ['MAS 93.CP.', ' грн', None],\n",
       " 'SKU: 57866': ['ДСЛ402.', ' грн', None],\n",
       " 'SKU: 79663': ['MAS 20.A (ФАО 230) – Ексклюзивний гібрид ТОВ «АГРОСЕМ».',\n",
       "  ' грн',\n",
       "  None],\n",
       " 'SKU: 29897': ['ЕС КРОССМАН (ФАО 240).', ' грн', None],\n",
       " 'SKU: 61625': ['ЕС КОНКОРД (ФАО 250).', ' грн', None],\n",
       " 'SKU: 63976': ['ЕС ХЕМІНГУЕЙ (ФАО 280).', ' грн', None],\n",
       " 'SKU: 64934': ['ЕС АСТЕРОІД (ФАО 290).', ' грн', None],\n",
       " 'SKU: 52329': ['ЕС КРЕАТИВ (ФАО 300).', ' грн', None],\n",
       " 'SKU: 89273': ['ЕС ІНВЕНТІВ (ФАО 300).', ' грн', None],\n",
       " 'SKU: 18262': ['ЕС МЕЙФЛАВЕР (ФАО 330).', ' грн', None],\n",
       " 'SKU: 41618': ['ЕС ФАРАДЕЙ (ФАО 350).', ' грн', None],\n",
       " 'SKU: 56874': ['ЕС МОСКІТО (ФАО 350).', ' грн', None],\n",
       " 'SKU: 99252': ['ЕС СЕНСОР (ФАО 370).', ' грн', None],\n",
       " 'SKU: 93843': ['ЕС МІЛОРД (ФАО 380).', ' грн', None],\n",
       " 'SKU: 74919': ['ЕС МЕТОД (ФАО 380).', ' грн', None],\n",
       " 'SKU: 92995': ['ГАРМОНІУМ (ФАО 380).', ' грн', None],\n",
       " 'SKU: 94116': ['MAS 15.T (ФАО 220).', ' грн', None],\n",
       " 'SKU: 77181': ['MAS 45.M (ФАО 440).', ' грн', None],\n",
       " 'SKU: 13315': ['КВС КУМПАН (ФАО 290), UNIQUEDENT.', ' грн', None],\n",
       " 'SKU: 23512': ['КАРПАТІС (ФАО 340).', ' грн', None],\n",
       " 'SKU: 35619': ['КВС КАШЕМІР (ФАО 380).', ' грн', None],\n",
       " 'SKU: 99157': ['П8025 (ФАО 230).', ' грн', None],\n",
       " 'SKU: 25371': ['П9025 (ФАО 330).', ' грн', None],\n",
       " 'SKU: 22661': ['ДС0493Б (ФАО 250).', ' грн', None],\n",
       " 'SKU: 67726': ['П8409 (ФАО 260).', ' грн', None],\n",
       " 'SKU: 92512': ['П8723 (ФАО 280).', ' грн', None],\n",
       " 'SKU: 25441': ['ДС0918Б (ФАО 270).', ' грн', None],\n",
       " 'SKU: 52787': ['П9486 (ФАО 340).', ' грн', None],\n",
       " 'SKU: 97543': ['ДС0336 (ФАО 310).', ' грн', None],\n",
       " 'SKU: 13478': ['ДА СОНКА (ФАО 350).', ' грн', None],\n",
       " 'SKU: 66675': ['МТ МАТАДО (ФАО 380).', ' грн', None],\n",
       " 'SKU: 61746': ['СУРРЕАЛ (ФАО 370).', ' грн', None],\n",
       " 'SKU: 36989': ['ДС1304С (ФАО 350).', ' грн', None],\n",
       " 'SKU: 63652': ['MAS 18.L (ФАО 210).', ' грн', None],\n",
       " 'SKU: 88745': ['MAS 20.F (ФАО 230).', ' грн', None],\n",
       " 'SKU: 91797': ['AMELIOR (ФАО 240).', ' грн', None],\n",
       " 'SKU: 65361': ['MAS 23.K (ФАО 220).', ' грн', None],\n",
       " 'SKU: 49148': ['MAS 25.F (ФАО 250).', ' грн', None],\n",
       " 'SKU: 23893': ['MAS 24.С (ФАО 260).', ' грн', None],\n",
       " 'SKU: 26429': ['MAS 30.К (ФАО 280).', ' грн', None],\n",
       " 'SKU: 87587': ['MAS 36.А (ФАО 300).', ' грн', None],\n",
       " 'SKU: 78789': ['MAS 33.А (ФАО 320).', ' грн', None],\n",
       " 'SKU: 98914': ['MAS 37.V (ФАО 340).', ' грн', None],\n",
       " 'SKU: 88291': ['MAS 35.К (ФАО 360).', ' грн', None],\n",
       " 'SKU: 76368': ['MAS 44.А (ФАО 380).', ' грн', None],\n",
       " 'SKU: 89828': ['MAS 40.F (ФАО 390).', ' грн', None],\n",
       " 'SKU: 74396': ['MAS 47.Р (ФАО 400).', ' грн', None],\n",
       " 'SKU: 94424': ['MAS 10.A (ФАО 180).', ' грн', None],\n",
       " 'SKU: 67641': ['VASILI (ФАО 250).', ' грн', None],\n",
       " 'SKU: 48722': ['MAS 28.A (ФАО 270).', ' грн', None],\n",
       " 'SKU: 38175': ['MAS 39.Т (ФАО 350).', ' грн', None],\n",
       " 'SKU: 36687': ['КАНЬЙОНС (ФАО 230), UNIQUEDENT.', ' грн', None],\n",
       " 'SKU: 73738': ['КВС 2323 (ФАО 260), UNIQUEDENT.', ' грн', None],\n",
       " 'SKU: 24669': ['КЕЛТІКУС (ФАО 270), UNIQUEDENT.', ' грн', None],\n",
       " 'SKU: 72269': ['КВС 2370 (ФАО 280), UNIQUEDENT.', ' грн', None],\n",
       " 'SKU: 97462': ['КАВАЛЕР (ФАО 250), UNIQUEDENT.', ' грн', None],\n",
       " 'SKU: 32246': ['АМАРОС (ФАО 230).', ' грн', None],\n",
       " 'SKU: 21173': ['БОГАТИР (ФАО 290).', ' грн', None],\n",
       " 'SKU: 31643': ['КРАБАС (ФАО 300).', ' грн', None],\n",
       " 'SKU: 46895': ['КЕРБЕРОС (ФАО 310).', ' грн', None],\n",
       " 'SKU: 73646': ['КВС 4484 (ФАО 370).', ' грн', None],\n",
       " 'SKU: 86812': ['КВС 381 (ФАО 350).', ' грн', None],\n",
       " 'SKU: 33481': ['КАРІФОЛС (ФАО 380).', ' грн', None],\n",
       " 'SKU: 79977': ['ДС1202Б (ФАО 260).', ' грн', None],\n",
       " 'SKU: 71611': ['MAS 30.M (ФАО 310).', ' грн', None]}"
      ]
     },
     "execution_count": 12,
     "metadata": {},
     "output_type": "execute_result"
    }
   ],
   "source": [
    "data"
   ]
  },
  {
   "cell_type": "markdown",
   "metadata": {},
   "source": [
    "### Завдання 3: "
   ]
  },
  {
   "cell_type": "markdown",
   "metadata": {},
   "source": [
    "Ознайомтеся із роботою SQLite та відповідним модулем у Python.\n",
    "Завантажте базу даних для виконання лабораторної роботи.\n",
    "Підключіться до завантаженої бази SQLite."
   ]
  },
  {
   "cell_type": "markdown",
   "metadata": {},
   "source": [
    "1. Виведіть інформацію про дану базу."
   ]
  },
  {
   "cell_type": "code",
   "execution_count": 10,
   "metadata": {},
   "outputs": [
    {
     "name": "stdout",
     "output_type": "stream",
     "text": [
      "Customers\n",
      "Customers\n",
      "CREATE TABLE Customers\n",
      "(\n",
      "  cust_id      char(10)  NOT NULL ,\n",
      "  cust_name    char(50)  NOT NULL ,\n",
      "  cust_address char(50)  NULL ,\n",
      "  cust_city    char(50)  NULL ,\n",
      "  cust_state   char(5)   NULL ,\n",
      "  cust_zip     char(10)  NULL ,\n",
      "  cust_country char(50)  NULL ,\n",
      "  cust_contact char(50)  NULL ,\n",
      "  cust_email   char(255) NULL ,\n",
      "  PRIMARY KEY (cust_id)\n",
      ")\n",
      "sqlite_autoindex_Customers_1\n",
      "Customers\n",
      "None\n",
      "OrderItems\n",
      "OrderItems\n",
      "CREATE TABLE OrderItems\n",
      "(\n",
      "  order_num  int          NOT NULL                      ,\n",
      "  order_item int          NOT NULL                      ,\n",
      "  prod_id    char(10)     NOT NULL                      ,\n",
      "  quantity   int          NOT NULL                      ,\n",
      "  item_price decimal(8,2) NOT NULL                      ,\n",
      "  PRIMARY KEY (order_num, order_item)                   ,\n",
      "  FOREIGN KEY (order_num) REFERENCES Orders (order_num) ,\n",
      "  FOREIGN KEY (prod_id) REFERENCES Products (prod_id)\n",
      ")\n",
      "sqlite_autoindex_OrderItems_1\n",
      "OrderItems\n",
      "None\n",
      "Orders\n",
      "Orders\n",
      "CREATE TABLE Orders\n",
      "(\n",
      "  order_num  int      NOT NULL ,\n",
      "  order_date datetime NOT NULL ,\n",
      "  cust_id    char(10) NOT NULL ,\n",
      "  PRIMARY KEY (order_num)      ,\n",
      "  FOREIGN KEY (cust_id) REFERENCES Customers (cust_id)\n",
      ")\n",
      "sqlite_autoindex_Orders_1\n",
      "Orders\n",
      "None\n",
      "Products\n",
      "Products\n",
      "CREATE TABLE Products\n",
      "(\n",
      "  prod_id    char(10)      NOT NULL ,\n",
      "  vend_id    char(10)      NOT NULL ,\n",
      "  prod_name  char(255)     NOT NULL ,\n",
      "  prod_price decimal(8,2)  NOT NULL ,\n",
      "  prod_desc  text          NULL     ,\n",
      "  PRIMARY KEY (prod_id)             ,\n",
      "  FOREIGN KEY (vend_id) REFERENCES Vendors (vend_id)\n",
      ")\n",
      "sqlite_autoindex_Products_1\n",
      "Products\n",
      "None\n",
      "Vendors\n",
      "Vendors\n",
      "CREATE TABLE Vendors\n",
      "(\n",
      "  vend_id      char(10) NOT NULL ,\n",
      "  vend_name    char(50) NOT NULL ,\n",
      "  vend_address char(50) NULL     ,\n",
      "  vend_city    char(50) NULL     ,\n",
      "  vend_state   char(5)  NULL     ,\n",
      "  vend_zip     char(10) NULL     ,\n",
      "  vend_country char(50) NULL     ,\n",
      "  PRIMARY KEY (vend_id)\n",
      ")\n",
      "sqlite_autoindex_Vendors_1\n",
      "Vendors\n",
      "None\n"
     ]
    }
   ],
   "source": [
    "import sqlite3#1.import\n",
    "\n",
    "sqlite_connection = sqlite3.connect('tysql.sqlite')#2.instance and connect bd name\n",
    "cursor = sqlite_connection.cursor()\n",
    "\n",
    "#sqlite_select_query = \"select sqlite_version();\"\n",
    "sqlite_select_query=\"SELECT * FROM sqlite_master\"\n",
    "cursor.execute(sqlite_select_query)#3 сделать запрос и получить resultSet\n",
    "record = cursor.fetchall()#4 .fetchall() получить из resultSet результат запроса\n",
    "for row in record:\n",
    "    print (row[1])\n",
    "    print (row[2])\n",
    "    print (row[4])\n",
    "cursor.close()\n"
   ]
  },
  {
   "cell_type": "markdown",
   "metadata": {},
   "source": [
    "2. Виведіть перелік всіх таблиць."
   ]
  },
  {
   "cell_type": "code",
   "execution_count": 11,
   "metadata": {},
   "outputs": [
    {
     "name": "stdout",
     "output_type": "stream",
     "text": [
      "Customers\n",
      "OrderItems\n",
      "Orders\n",
      "Products\n",
      "Vendors\n"
     ]
    }
   ],
   "source": [
    "sqlite_connection = sqlite3.connect('tysql.sqlite')#2.instance and connect bd name\n",
    "cursor = sqlite_connection.cursor()\n",
    "cursor.execute(\"select * from sqlite_master where type = 'table'\")\n",
    "tables = cursor.fetchall()\n",
    "\n",
    "for table in tables:\n",
    "    print(table[1]) #названия тадлиц"
   ]
  },
  {
   "cell_type": "markdown",
   "metadata": {},
   "source": [
    "3. Список всіх cust_id з таблиці Customers table."
   ]
  },
  {
   "cell_type": "code",
   "execution_count": 12,
   "metadata": {},
   "outputs": [
    {
     "data": {
      "text/plain": [
       "[('1000000001',),\n",
       " ('1000000002',),\n",
       " ('1000000003',),\n",
       " ('1000000004',),\n",
       " ('1000000005',)]"
      ]
     },
     "execution_count": 12,
     "metadata": {},
     "output_type": "execute_result"
    }
   ],
   "source": [
    "cursor.execute('SELECT cust_id FROM Customers')\n",
    "tables = cursor.fetchall()\n",
    "tables"
   ]
  },
  {
   "cell_type": "markdown",
   "metadata": {},
   "source": [
    "4. Всю таблицю Customers table"
   ]
  },
  {
   "cell_type": "code",
   "execution_count": 13,
   "metadata": {},
   "outputs": [
    {
     "data": {
      "text/plain": [
       "[('1000000001',\n",
       "  'Village Toys',\n",
       "  '200 Maple Lane',\n",
       "  'Detroit',\n",
       "  'MI',\n",
       "  '44444',\n",
       "  'USA',\n",
       "  'John Smith',\n",
       "  'sales@villagetoys.com'),\n",
       " ('1000000002',\n",
       "  'Kids Place',\n",
       "  '333 South Lake Drive',\n",
       "  'Columbus',\n",
       "  'OH',\n",
       "  '43333',\n",
       "  'USA',\n",
       "  'Michelle Green',\n",
       "  None),\n",
       " ('1000000003',\n",
       "  'Fun4All',\n",
       "  '1 Sunny Place',\n",
       "  'Muncie',\n",
       "  'IN',\n",
       "  '42222',\n",
       "  'USA',\n",
       "  'Jim Jones',\n",
       "  'jjones@fun4all.com'),\n",
       " ('1000000004',\n",
       "  'Fun4All',\n",
       "  '829 Riverside Drive',\n",
       "  'Phoenix',\n",
       "  'AZ',\n",
       "  '88888',\n",
       "  'USA',\n",
       "  'Denise L. Stephens',\n",
       "  'dstephens@fun4all.com'),\n",
       " ('1000000005',\n",
       "  'The Toy Store',\n",
       "  '4545 53rd Street',\n",
       "  'Chicago',\n",
       "  'IL',\n",
       "  '54545',\n",
       "  'USA',\n",
       "  'Kim Howard',\n",
       "  None)]"
      ]
     },
     "execution_count": 13,
     "metadata": {},
     "output_type": "execute_result"
    }
   ],
   "source": [
    "cursor.execute('SELECT * FROM Customers')\n",
    "tables = cursor.fetchall()\n",
    "tables"
   ]
  },
  {
   "cell_type": "markdown",
   "metadata": {},
   "source": [
    "5. Список клієнтів (cust_names) відсортованих від Z до A"
   ]
  },
  {
   "cell_type": "code",
   "execution_count": 14,
   "metadata": {},
   "outputs": [
    {
     "data": {
      "text/plain": [
       "[('Village Toys',),\n",
       " ('The Toy Store',),\n",
       " ('Kids Place',),\n",
       " ('Fun4All',),\n",
       " ('Fun4All',)]"
      ]
     },
     "execution_count": 14,
     "metadata": {},
     "output_type": "execute_result"
    }
   ],
   "source": [
    "cursor.execute('SELECT cust_name FROM Customers ORDER BY cust_name DESC')\n",
    "tables = cursor.fetchall()\n",
    "tables"
   ]
  },
  {
   "cell_type": "markdown",
   "metadata": {},
   "source": [
    "6. Таблицю клієнтів та замовлень (cust_id і order_num) . Відсортуйте по клієнту і потім по даті замовлення"
   ]
  },
  {
   "cell_type": "code",
   "execution_count": 24,
   "metadata": {},
   "outputs": [
    {
     "name": "stdout",
     "output_type": "stream",
     "text": [
      "(cust_id і order_num) sorted:\n"
     ]
    },
    {
     "data": {
      "text/plain": [
       "[('1000000001', 'Village Toys', 20005, '2012-05-01'),\n",
       " ('1000000001', 'Village Toys', 20009, '2012-02-08'),\n",
       " ('1000000002', 'Kids Place', None, None),\n",
       " ('1000000003', 'Fun4All', 20006, '2012-01-12'),\n",
       " ('1000000004', 'Fun4All', 20007, '2012-01-30'),\n",
       " ('1000000005', 'The Toy Store', 20008, '2012-02-03')]"
      ]
     },
     "execution_count": 24,
     "metadata": {},
     "output_type": "execute_result"
    }
   ],
   "source": [
    "cursor.execute(\"\"\"\n",
    "SELECT Customers.cust_id, Customers.cust_name, Orders.order_num, Orders.order_date\n",
    "FROM  Customers LEFT JOIN Orders ON Customers.cust_id = Orders.cust_id \n",
    "                            ORDER BY Customers.cust_id,Orders.order_num\n",
    "               \n",
    "               \"\"\")\n",
    "\n",
    "tables = cursor.fetchall()\n",
    "print('(cust_id і order_num) sorted:')\n",
    "tables"
   ]
  },
  {
   "cell_type": "markdown",
   "metadata": {},
   "source": [
    "сортирован по cust_id\n",
    "[('1000000001', 'Village Toys', 20005, '2012-05-01'),\n",
    " ('1000000001', 'Village Toys', 20009, '2012-02-08'),\n",
    " ('1000000002', 'Kids Place', None, None),\n",
    " ('1000000003', 'Fun4All', 20006, '2012-01-12'),\n",
    " ('1000000004', 'Fun4All', 20007, '2012-01-30'),\n",
    " ('1000000005', 'The Toy Store', 20008, '2012-02-03')]"
   ]
  },
  {
   "cell_type": "markdown",
   "metadata": {},
   "source": [
    "сортирован по order_num\n",
    "[('1000000002', 'Kids Place', None, None),\n",
    " ('1000000001', 'Village Toys', 20005, '2012-05-01'),\n",
    " ('1000000003', 'Fun4All', 20006, '2012-01-12'),\n",
    " ('1000000004', 'Fun4All', 20007, '2012-01-30'),\n",
    " ('1000000005', 'The Toy Store', 20008, '2012-02-03'),\n",
    " ('1000000001', 'Village Toys', 20009, '2012-02-08')]"
   ]
  },
  {
   "cell_type": "code",
   "execution_count": null,
   "metadata": {},
   "outputs": [],
   "source": [
    "#Но нужно использовать функцию executemany вместо обычной execute, fetchmany() fetchall()  fetchone()заметка для себя\n"
   ]
  },
  {
   "cell_type": "markdown",
   "metadata": {},
   "source": [
    "7. Таблицю (на основі Items) з кількість та вартістю товару. Відсортуйте в порядку спадання по кількості та вартості"
   ]
  },
  {
   "cell_type": "code",
   "execution_count": 26,
   "metadata": {},
   "outputs": [
    {
     "name": "stdout",
     "output_type": "stream",
     "text": [
      "( quantity desc, item_price) sorted:\n"
     ]
    },
    {
     "data": {
      "text/plain": [
       "[(250, 2.49),\n",
       " (250, 2.49),\n",
       " (250, 2.49),\n",
       " (100, 10.99),\n",
       " (100, 5.49),\n",
       " (100, 2.99),\n",
       " (100, 2.99),\n",
       " (100, 2.99),\n",
       " (50, 11.49),\n",
       " (50, 4.49),\n",
       " (20, 5.99),\n",
       " (10, 11.99),\n",
       " (10, 8.99),\n",
       " (10, 3.49),\n",
       " (10, 3.49),\n",
       " (10, 3.49),\n",
       " (5, 11.99),\n",
       " (5, 4.99)]"
      ]
     },
     "execution_count": 26,
     "metadata": {},
     "output_type": "execute_result"
    }
   ],
   "source": [
    "cursor.execute(\"\"\"\n",
    "SELECT quantity, item_price\n",
    "FROM OrderItems\n",
    "ORDER BY quantity desc, item_price desc\n",
    "               \n",
    "               \"\"\")\n",
    "\n",
    "tables = cursor.fetchall()\n",
    "print('( quantity desc, item_price) sorted:')\n",
    "tables"
   ]
  },
  {
   "cell_type": "markdown",
   "metadata": {},
   "source": [
    "8. Товар (з таблиці Products), ціна якого становить 9.49"
   ]
  },
  {
   "cell_type": "code",
   "execution_count": 28,
   "metadata": {},
   "outputs": [
    {
     "data": {
      "text/plain": [
       "[('RYL01',), ('RYL02',)]"
      ]
     },
     "execution_count": 28,
     "metadata": {},
     "output_type": "execute_result"
    }
   ],
   "source": [
    "cursor.execute(\"\"\"\n",
    "SELECT prod_id\n",
    "FROM Products\n",
    "WHERE prod_price = 9.49\n",
    "               \n",
    "               \"\"\")\n",
    "\n",
    "tables = cursor.fetchall()\n",
    "#print('( quantity desc, item_price) sorted:')\n",
    "tables"
   ]
  },
  {
   "cell_type": "markdown",
   "metadata": {},
   "source": [
    "9. Виведіть назву товару та ціну, яка лежить в діапазоні від  3 до 6. Відсортуйте результат в по ціні в порядку зростання"
   ]
  },
  {
   "cell_type": "code",
   "execution_count": 32,
   "metadata": {},
   "outputs": [
    {
     "name": "stdout",
     "output_type": "stream",
     "text": [
      "( quantity desc, item_price) sorted:\n"
     ]
    },
    {
     "data": {
      "text/plain": [
       "[('BNBG01', 3.49),\n",
       " ('BNBG02', 3.49),\n",
       " ('BNBG03', 3.49),\n",
       " ('RGAN01', 4.99),\n",
       " ('BR01', 5.99)]"
      ]
     },
     "execution_count": 32,
     "metadata": {},
     "output_type": "execute_result"
    }
   ],
   "source": [
    "cursor.execute(\"\"\"\n",
    "SELECT prod_id, prod_price\n",
    "FROM Products\n",
    "WHERE prod_price >= 3 and prod_price <=6\n",
    "ORDER BY prod_price ASC               \n",
    "               \"\"\")\n",
    "\n",
    "tables = cursor.fetchall()\n",
    "#print('( quantity desc, item_price) sorted:')\n",
    "tables"
   ]
  },
  {
   "cell_type": "markdown",
   "metadata": {},
   "source": [
    "10. Кількість товару, що було продано"
   ]
  },
  {
   "cell_type": "code",
   "execution_count": 35,
   "metadata": {},
   "outputs": [
    {
     "data": {
      "text/plain": [
       "[(1430,)]"
      ]
     },
     "execution_count": 35,
     "metadata": {},
     "output_type": "execute_result"
    }
   ],
   "source": [
    "cursor.execute(\"\"\"\n",
    "SELECT sum(quantity)\n",
    "FROM OrderItems\n",
    "          \n",
    "               \"\"\")\n",
    "\n",
    "tables = cursor.fetchall()\n",
    "#print('( quantity desc, item_price) sorted:')\n",
    "tables"
   ]
  },
  {
   "cell_type": "markdown",
   "metadata": {},
   "source": [
    "11. Кількість найменувань товару, ціна якого більша за 4"
   ]
  },
  {
   "cell_type": "code",
   "execution_count": 36,
   "metadata": {},
   "outputs": [
    {
     "data": {
      "text/plain": [
       "[(9,)]"
      ]
     },
     "execution_count": 36,
     "metadata": {},
     "output_type": "execute_result"
    }
   ],
   "source": [
    "cursor.execute(\"\"\"\n",
    "SELECT count(prod_id)\n",
    "FROM OrderItems\n",
    "WHERE item_price >4\n",
    "               \"\"\")\n",
    "\n",
    "tables = cursor.fetchall()\n",
    "#print('( quantity desc, item_price) sorted:')\n",
    "tables"
   ]
  },
  {
   "cell_type": "markdown",
   "metadata": {},
   "source": [
    "12. Розробіть алгоритм для виведення 3 найдорожчих товарів в базі"
   ]
  },
  {
   "cell_type": "code",
   "execution_count": 43,
   "metadata": {},
   "outputs": [
    {
     "data": {
      "text/plain": [
       "[('BR03', 11.99), ('RYL01', 9.49), ('RYL02', 9.49)]"
      ]
     },
     "execution_count": 43,
     "metadata": {},
     "output_type": "execute_result"
    }
   ],
   "source": [
    "cursor.execute(\"\"\"\n",
    "SELECT prod_id, prod_price \n",
    "FROM Products\n",
    "ORDER BY prod_price DESC\n",
    "LIMIT 3\n",
    "               \"\"\")\n",
    "\n",
    "tables = cursor.fetchall()\n",
    "#print('( quantity desc, item_price) sorted:')\n",
    "tables"
   ]
  },
  {
   "cell_type": "markdown",
   "metadata": {},
   "source": [
    "13. Підрахуйте кількість замовлень для кожного клієнта використовуючи підзапити"
   ]
  },
  {
   "cell_type": "code",
   "execution_count": 46,
   "metadata": {},
   "outputs": [
    {
     "data": {
      "text/plain": [
       "[('1000000001', 'Village Toys', 2),\n",
       " ('1000000002', 'Kids Place', 0),\n",
       " ('1000000003', 'Fun4All', 1),\n",
       " ('1000000004', 'Fun4All', 1),\n",
       " ('1000000005', 'The Toy Store', 1)]"
      ]
     },
     "execution_count": 46,
     "metadata": {},
     "output_type": "execute_result"
    }
   ],
   "source": [
    "cursor.execute(\"\"\"\n",
    "SELECT Customers.cust_id,Customers.cust_name,(\n",
    "    SELECT count(Orders.order_num)\n",
    "    FROM Orders\n",
    "    WHERE Customers.cust_id = Orders.cust_id)\n",
    "FROM Customers\n",
    "               \"\"\")\n",
    "\n",
    "tables = cursor.fetchall()\n",
    "#print('( quantity desc, item_price) sorted:')\n",
    "tables"
   ]
  },
  {
   "cell_type": "markdown",
   "metadata": {},
   "source": [
    "14. Виведіть список клієнтів та їх замовлення (використайте JOIN)"
   ]
  },
  {
   "cell_type": "code",
   "execution_count": 48,
   "metadata": {},
   "outputs": [
    {
     "data": {
      "text/plain": [
       "[('1000000001', 'Village Toys', 20005),\n",
       " ('1000000001', 'Village Toys', 20009),\n",
       " ('1000000002', 'Kids Place', None),\n",
       " ('1000000003', 'Fun4All', 20006),\n",
       " ('1000000004', 'Fun4All', 20007),\n",
       " ('1000000005', 'The Toy Store', 20008)]"
      ]
     },
     "execution_count": 48,
     "metadata": {},
     "output_type": "execute_result"
    }
   ],
   "source": [
    "cursor.execute(\"\"\"\n",
    "SELECT Customers.cust_id,Customers.cust_name, Orders.order_num\n",
    "FROM Customers \n",
    "LEFT JOIN Orders ON Customers.cust_id = Orders.cust_id\n",
    "               \"\"\")\n",
    "\n",
    "tables = cursor.fetchall()\n",
    "#print('( quantity desc, item_price) sorted:')\n",
    "tables"
   ]
  },
  {
   "cell_type": "markdown",
   "metadata": {},
   "source": [
    "15. Зробіть два запити: список товарів, ціна яких менша 5 та список товарів, ціна який більша рівна 5. Використайте UNION для об'єднання цих запитів"
   ]
  },
  {
   "cell_type": "code",
   "execution_count": 56,
   "metadata": {},
   "outputs": [
    {
     "data": {
      "text/plain": [
       "[('Fish bean bag toy', 3.49),\n",
       " ('Bird bean bag toy', 3.49),\n",
       " ('Rabbit bean bag toy', 3.49),\n",
       " ('Raggedy Ann', 4.99),\n",
       " ('8 inch teddy bear', 5.99),\n",
       " ('12 inch teddy bear', 8.99),\n",
       " ('18 inch teddy bear', 11.99),\n",
       " ('King doll', 9.49),\n",
       " ('Queen doll', 9.49)]"
      ]
     },
     "execution_count": 56,
     "metadata": {},
     "output_type": "execute_result"
    }
   ],
   "source": [
    "cursor.execute(\"\"\"\n",
    "SELECT prod_name, prod_price\n",
    "FROM Products\n",
    "WHERE prod_price < 5\n",
    "UNION\n",
    "SELECT prod_name, prod_price\n",
    "FROM Products\n",
    "WHERE prod_price >= 5 \n",
    "               \"\"\")\n",
    "\n",
    "tables = cursor.fetchall()\n",
    "#print('( quantity desc, item_price) sorted:')\n",
    "tables"
   ]
  },
  {
   "cell_type": "markdown",
   "metadata": {},
   "source": [
    "### Завдання 4: "
   ]
  },
  {
   "cell_type": "markdown",
   "metadata": {},
   "source": [
    "Зареєструйтеся на сайті  http://www.sql-ex.ru/\n",
    "\n",
    "Виконайте завдання із блоку SELECT; з 1 по 30 завдання\n",
    "\n",
    "Код запитів вставляйте сюди\n"
   ]
  },
  {
   "cell_type": "code",
   "execution_count": null,
   "metadata": {},
   "outputs": [],
   "source": [
    "'''SELECT\n",
    "PC.model, PC.speed, PC.hd\n",
    "FROM PC\n",
    "WHERE price < 500\n",
    "SELECT DISTINCT Product.maker\n",
    "\n",
    "FROM Product\n",
    "WHERE Product.type = 'Printer'\n",
    "SELECT Laptop.model, Laptop.ram, Laptop.screen\n",
    "FROM Laptop\n",
    "WHERE Laptop.price > 1000\n",
    "SELECT *\n",
    "FROM Printer\n",
    "WHERE color = 'y'\n",
    "SELECT DISTINCT model, speed, hd\n",
    "FROM PC\n",
    "WHERE (cd = '12x' or cd = '24x') and price <600\n",
    "SELECT DISTINCT Product.maker,  Laptop.speed\n",
    "FROM Product\n",
    "LEFT JOIN Laptop on Laptop.model =  Product.model\n",
    "WHERE Laptop.hd >= 10\n",
    "SELECT DISTINCT product.model, pc.price\n",
    "FROM Product JOIN pc ON product.model = pc.model WHERE maker = 'B'\n",
    "UNION\n",
    "SELECT DISTINCT product.model, laptop.price\n",
    "FROM product JOIN laptop ON product.model=laptop.model WHERE maker='B'\n",
    "UNION\n",
    "SELECT DISTINCT product.model, printer.price\n",
    "FROM product JOIN printer ON product.model=printer.model WHERE maker='B'\n",
    "SELECT DISTINCT Product.maker\n",
    "FROM Product LEFT JOIN PC on PC.model=Product.model\n",
    "WHERE PC.speed>=450\n",
    "SELECT model, price\n",
    "FROM Printer\n",
    "WHERE price = (SELECT MAX(price) FROM Printer)\n",
    "SELECT AVG(speed)\n",
    "FROM pc\n",
    "SELECT AVG(Laptop.speed)\n",
    "FROM Laptop\n",
    "WHERE price > 1000\n",
    "SELECT AVG(PC.speed)\n",
    "FROM PC LEFT JOIN Product ON Product.model=PC.model\n",
    "WHERE maker = 'A'\n",
    "\n",
    "SELECT Ships.class,Ships.name,Classes.country\n",
    "FROM Ships LEFT JOIN Classes on Ships.class = Classes.class\n",
    "WHERE Classes.numGuns >= 10\n",
    "SELECT DISTINCT HD\n",
    "FROM PC\n",
    "GROUP BY HD\n",
    "HAVING count(HD) >=2\n",
    "SELECT DISTINCT Product.type,Laptop.model,Laptop.speed\n",
    "FROM Laptop, PC, Product\n",
    "WHERE type = 'Laptop' AND Laptop.speed < ALL (SELECT PC.speed FROM PC)\n",
    "SELECT DISTINCT maker, price\n",
    "FROM ( SELECT Product.maker, Printer.price, Product.type\n",
    "FROM Product LEFT JOIN Printer on Product.model = Printer.model\n",
    "WHERE Product.type = 'Printer' and Printer.color = 'y' and Printer.price = (SELECT MIN(price) FROM Printer WHERE Printer.color = 'y')\n",
    ") AS Winter\n",
    "SELECT\n",
    "product.maker, AVG(screen)\n",
    "FROM laptop\n",
    "LEFT JOIN product ON product.model = laptop.model\n",
    "GROUP BY product.maker\n",
    "SELECT maker, COUNT(model)\n",
    "FROM product\n",
    "WHERE type = 'pc'\n",
    "GROUP BY product.maker\n",
    "HAVING COUNT(model) >= 3\n",
    "SELECT product.maker, MAX(pc.price)\n",
    "FROM product, pc\n",
    "WHERE product.model = pc.model\n",
    "GROUP BY product.maker\n",
    "SELECT speed, AVG(price)\n",
    "FROM PC\n",
    "WHERE speed >600\n",
    "GROUP BY speed\n",
    "SELECT DISTINCT maker\n",
    "FROM product t1 JOIN pc t2 ON t1.model=t2.model\n",
    "WHERE speed>=750 AND maker IN\n",
    "( SELECT maker\n",
    "FROM product t1 JOIN laptop t2 ON t1.model=t2.model\n",
    "WHERE speed>=750 )\n",
    "SELECT DISTINCT model\n",
    "FROM (\n",
    "\tSELECT model, price\n",
    "\tFROM PC\n",
    "\tUNION ALL\n",
    "\tSELECT model, price\n",
    "\tFROM Laptop\n",
    "\tUNION ALL\n",
    "\tSELECT model, price\n",
    "\tFROM Printer\n",
    "\t)X\n",
    "WHERE price = (SELECT MAX(price) FROM (\n",
    "\tSELECT model, price\n",
    "\tFROM PC\n",
    "\tUNION ALL\n",
    "\tSELECT model, price\n",
    "\tFROM Laptop\n",
    "\tUNION ALL\n",
    "\tSELECT model, price\n",
    "\tFROM Printer\n",
    "\t)X)\n",
    "SELECT DISTINCT maker\n",
    "FROM product\n",
    "WHERE model IN (\n",
    "SELECT model\n",
    "FROM pc\n",
    "WHERE ram = (\n",
    "  SELECT MIN(ram)\n",
    "  FROM pc\n",
    "  )\n",
    "AND speed = (\n",
    "  SELECT MAX(speed)\n",
    "  FROM pc\n",
    "  WHERE ram = (\n",
    "   SELECT MIN(ram)\n",
    "   FROM pc\n",
    "   )\n",
    "  )\n",
    ")\n",
    "AND\n",
    "maker IN (\n",
    "SELECT maker\n",
    "FROM product\n",
    "WHERE type='printer'\n",
    ")\n",
    "SELECT product.maker, AVG(pc.hd)\n",
    "FROM pc, product WHERE product.model = pc.model\n",
    "AND product.maker IN ( SELECT DISTINCT maker\n",
    "FROM product\n",
    "WHERE product.type = 'printer')\n",
    "GROUP BY maker\n",
    "SELECT COUNT(maker)\n",
    "FROM (\n",
    "SELECT DISTINCT maker, COUNT(model) qty\n",
    "FROM Product\n",
    "GROUP BY maker\n",
    "HAVING COUNT(model) = 1)X\n",
    "SELECT t1.point, t1.date, inc, out\n",
    "FROM income_o t1 LEFT JOIN outcome_o t2 ON t1.point = t2.point\n",
    "AND t1.date = t2.date\n",
    "UNION\n",
    "SELECT t2.point, t2.date, inc, out\n",
    "FROM income_o t1 RIGHT JOIN outcome_o t2 ON t1.point = t2.point\n",
    "AND t1.date = t2.date\n",
    "\n",
    "select point, date, SUM(sum_out), SUM(sum_inc)\n",
    "from( select point, date, SUM(inc) as sum_inc, null as sum_out from Income Group by point, date\n",
    "Union\n",
    "select point, date, null as sum_inc, SUM(out) as sum_out from Outcome Group by point, date ) as t\n",
    "group by point, date order by point\n",
    "'''"
   ]
  }
 ],
 "metadata": {
  "kernelspec": {
   "display_name": "Python 3",
   "language": "python",
   "name": "python3"
  },
  "language_info": {
   "codemirror_mode": {
    "name": "ipython",
    "version": 3
   },
   "file_extension": ".py",
   "mimetype": "text/x-python",
   "name": "python",
   "nbconvert_exporter": "python",
   "pygments_lexer": "ipython3",
   "version": "3.8.8"
  }
 },
 "nbformat": 4,
 "nbformat_minor": 2
}
